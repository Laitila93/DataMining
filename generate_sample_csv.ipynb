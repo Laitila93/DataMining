{
 "cells": [
  {
   "cell_type": "markdown",
   "id": "8fa2450d",
   "metadata": {},
   "source": [
    "## Generate CSV files of sampled data from our preprocessed data"
   ]
  },
  {
   "cell_type": "code",
   "execution_count": null,
   "id": "914641c1",
   "metadata": {},
   "outputs": [],
   "source": [
    "import pandas as pd"
   ]
  },
  {
   "cell_type": "code",
   "execution_count": null,
   "id": "ecb75211",
   "metadata": {},
   "outputs": [],
   "source": [
    "## Read preprocessed data\n",
    "\n",
    "# -------------------------------------------------------\n",
    "# This required having this file (~3GB) in your directory\n",
    "# (not included in this repo)\n",
    "# -------------------------------------------------------\n",
    "df = pd.read_csv(\"arxiv-main-categories.csv\")"
   ]
  },
  {
   "cell_type": "code",
   "execution_count": null,
   "id": "2e93fd0b",
   "metadata": {},
   "outputs": [],
   "source": [
    "## This code generates and saves {num_sample_csvs} sample CSV files from arxiv-main-categories.csv\n",
    "# This takes ~ 10-15 min on a laptop\n",
    "\n",
    "num_sample_csvs = 3\n",
    "\n",
    "category_map = {\n",
    "    \"plasm-ph\": \"physics\",\n",
    "    \"atom-ph\": \"physics\",\n",
    "    \"chem-ph\": \"physics\",\n",
    "    \"supr-con\": \"physics\",\n",
    "    \"acc-phys\": \"physics\",\n",
    "    \"cmp-lg\": \"math\",\n",
    "    \"q-alg\": \"math\",\n",
    "    \"alg-geom\": \"math\",\n",
    "    \"dg-ga\": \"math\",\n",
    "    \"funct-an\": \"math\",\n",
    "    \"patt-sol\": \"math\",\n",
    "    \"solv-int\": \"math\",\n",
    "    \"adap-org\": \"math\",\n",
    "    \"chao-dyn\": \"math\",\n",
    "    \"ao-sci\": \"stat\",\n",
    "    \"bayes-an\": \"stat\",\n",
    "    \"mtrl-th\": \"cond-mat\",\n",
    "    \"comp-gas\": \"cond-mat\",\n",
    "}\n",
    "\n",
    "# Map smaller categories to their parent categories\n",
    "# using https://arxiv.org/category_taxonomy\n",
    "df[\"categories\"] = df[\"categories\"].replace(category_map)\n",
    "\n",
    "# Number to sample per category\n",
    "n_per_category = 4500\n",
    "\n",
    "# Generate 3 files, each containing 4500 samples for each of the 20 main categories\n",
    "# 90 000 entries per csv\n",
    "for i in range(1, num_sample_csvs):\n",
    "    sampled = (\n",
    "        df.groupby(\"categories\", group_keys=False)\n",
    "          .apply(lambda g: g.sample(n=n_per_category, random_state=i))\n",
    "    )\n",
    "    \n",
    "    out_file = f\"arxiv-stratified-sample-{i}.csv\"\n",
    "    sampled.to_csv(out_file, index=False)\n",
    "    print(f\"Saved stratified sample {i} to {out_file}\")\n"
   ]
  }
 ],
 "metadata": {
  "kernelspec": {
   "display_name": "Python 3",
   "language": "python",
   "name": "python3"
  },
  "language_info": {
   "codemirror_mode": {
    "name": "ipython",
    "version": 3
   },
   "file_extension": ".py",
   "mimetype": "text/x-python",
   "name": "python",
   "nbconvert_exporter": "python",
   "pygments_lexer": "ipython3",
   "version": "3.11.11"
  }
 },
 "nbformat": 4,
 "nbformat_minor": 5
}
